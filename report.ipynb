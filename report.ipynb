{
 "cells": [
  {
   "cell_type": "markdown",
   "metadata": {},
   "source": [
    "# Travel Review Ratings "
   ]
  },
  {
   "cell_type": "markdown",
   "metadata": {},
   "source": [
    "This data set is populated by capturing user ratings from Google reviews. Reviews on attractions from 24 categories across Europe are considered. Google user rating ranges from 1 to 5 and average user rating per category is calculated. "
   ]
  },
  {
   "cell_type": "markdown",
   "metadata": {},
   "source": [
    "Attribute Information:\n",
    "\n",
    "Attribute 1 : Unique user id \n",
    "\n",
    "Attribute 2 : Average ratings on churches \n",
    "\n",
    "Attribute 3 : Average ratings on resorts \n",
    "\n",
    "Attribute 4 : Average ratings on beaches \n",
    "\n",
    "Attribute 5 : Average ratings on parks \n",
    "\n",
    "Attribute 6 : Average ratings on theatres \n",
    "\n",
    "Attribute 7 : Average ratings on museums \n",
    "\n",
    "Attribute 8 : Average ratings on malls \n",
    "\n",
    "Attribute 9 : Average ratings on zoo \n",
    "\n",
    "Attribute 10 : Average ratings on restaurants \n",
    "\n",
    "Attribute 11 : Average ratings on pubs/bars \n",
    "\n",
    "Attribute 12 : Average ratings on local services \n",
    "\n",
    "Attribute 13 : Average ratings on burger/pizza shops \n",
    "\n",
    "Attribute 14 : Average ratings on hotels/other lodgings \n",
    "\n",
    "Attribute 15 : Average ratings on juice bars \n",
    "\n",
    "Attribute 16 : Average ratings on art galleries \n",
    "\n",
    "Attribute 17 : Average ratings on dance clubs \n",
    "\n",
    "Attribute 18 : Average ratings on swimming pools \n",
    "\n",
    "Attribute 19 : Average ratings on gyms \n",
    "\n",
    "Attribute 20 : Average ratings on bakeries \n",
    "\n",
    "Attribute 21 : Average ratings on beauty & spas \n",
    "\n",
    "Attribute 22 : Average ratings on cafes \n",
    "\n",
    "Attribute 23 : Average ratings on view points \n",
    "\n",
    "Attribute 24 : Average ratings on monuments \n",
    "\n",
    "Attribute 25 : Average ratings on gardens"
   ]
  },
  {
   "cell_type": "markdown",
   "metadata": {},
   "source": [
    "## Analyze the data"
   ]
  },
  {
   "cell_type": "markdown",
   "metadata": {},
   "source": [
    "為了避免數據中出現缺失值，首先先判斷缺失值是否存在，再以0補入。\n",
    "\n",
    "利用函數data.describe()查看數據。分析每一種種類的個別平均值，由可視化圖可發現\n",
    "* Category 18(游泳池的平均評分)的mean=0.822為所有種類中最低，Category 7(博物館的平均評分)的mean=3.351為最高\n",
    "\n",
    "推論:\n",
    "* 由於歐洲人文氣息濃厚，所以各式博物館林立，加上許多眾所皆知的博物館，例如:羅浮宮，館內收藏許多世界名畫，因此為各地遊客遊覽歐洲必訪之處。\n",
    "* 24個種類的平均值多介於0~3之間，偏低。\n",
    "\n",
    "再試著個別對每個user對24種景點的rating取平均，發現最高為2.86，最低為1.23，也是偏低。\n",
    "\n",
    "接著，試著看看相關性。我挑出關於【吃】、【喝】的種類，但相關性最高只有0.56.，顯然不同種類的【吃】、【喝】之間，旅客的評價並沒有太大的相關。\n",
    "\n",
    "那所有種類呢?\n",
    "\n",
    "相關性最高為0.63，(度假村的平均評分、海灘的平均評分)。猜測有些渡假村會以鄰近海邊來吸客，因此如果海邊的評分高，可能連帶使渡假村得到較高評價。"
   ]
  },
  {
   "cell_type": "markdown",
   "metadata": {},
   "source": [
    "但由於可能因為user對某一類景點的評分相對低，使得整體平均被拉低。因此我想知道"
   ]
  },
  {
   "cell_type": "markdown",
   "metadata": {},
   "source": [
    "## 哪些User將可能再次遊覽歐洲?"
   ]
  },
  {
   "cell_type": "markdown",
   "metadata": {},
   "source": [
    "### Classification"
   ]
  },
  {
   "cell_type": "markdown",
   "metadata": {},
   "source": [
    "為避免綜合的rating被某一些特別低或高的值所影響，我們分開考慮每個種類。對於每個種類，rating<=1的user為不再考慮觀光該種類景點的人；反之，rating>1的user為可能再度觀光該類景點。我將rating>1的人label=1，表示其為再次遊覽歐洲的吸引因子。\n",
    "加總所有label後，發現\n",
    "* label最多為24，最低為10\n",
    "\n",
    "如果在24種景點中，有超過2/3種的景點為該人可能再次觀光的景點，則我們認定此user會再次遊覽歐洲。因此我將會再次遊覽歐洲的人標為1，反之，為0。"
   ]
  },
  {
   "cell_type": "markdown",
   "metadata": {},
   "source": [
    "### Regression"
   ]
  },
  {
   "cell_type": "markdown",
   "metadata": {},
   "source": [
    "我將所有數據平分成train和test，再從中分出x_train ,x_test ,y_test,y_train(不刪除任何列)。\n",
    "\n",
    "使用Logistic Regression，結果得到\n",
    "\n",
    "Train accuracy: 0.73\n",
    "    \n",
    "Test accuracy: 0.7039902280130294\n",
    "    \n",
    "此結果的精準度並不算高，因此我考慮利用Ridge Regression分析係數。\n",
    "\n",
    "\n",
    "\n",
    "Coefficient for Category 1:\t0.10207538793768949\n",
    "    \n",
    "Coefficient for Category 2:\t-0.0020602375720913217\n",
    "    \n",
    "Coefficient for Category 3:\t-0.012124086703839696\n",
    "    \n",
    "Coefficient for Category 4:\t0.0256890627227801\n",
    "    \n",
    "Coefficient for Category 5:\t0.025058989217973265\n",
    "    \n",
    "Coefficient for Category 6:\t0.0007956312674039331\n",
    "    \n",
    "Coefficient for Category 7:\t-0.021141689696434197\n",
    "    \n",
    "Coefficient for Category 8:\t0.01592455147742646\n",
    "    \n",
    "Coefficient for Category 9:\t0.009519483711985108\n",
    "    \n",
    "Coefficient for Category 10:\t0.044320472926834165\n",
    "    \n",
    "Coefficient for Category 11:\t0.011608887875881322\n",
    "    \n",
    "Coefficient for Category 12:\t-0.007010338431126987\n",
    "    \n",
    "Coefficient for Category 13:\t0.006046874810739849\n",
    "    \n",
    "Coefficient for Category 14:\t-0.0013618998694982483\n",
    "    \n",
    "Coefficient for Category 15:\t0.019405858373604278\n",
    "    \n",
    "Coefficient for Category 16:\t0.05725780963229885\n",
    "    \n",
    "Coefficient for Category 17:\t0.029937942836959976\n",
    "    \n",
    "Coefficient for Category 18:\t0.0017367739689673862\n",
    "    \n",
    "Coefficient for Category 19:\t0.016661958464093813\n",
    "    \n",
    "Coefficient for Category 20:\t0.010177319049095851\n",
    "    \n",
    "Coefficient for Category 21:\t0.02409336313836732\n",
    "    \n",
    "Coefficient for Category 22:\t0.03303622193907094\n",
    "    \n",
    "Coefficient for Category 23:\t0.02321675442991753\n",
    "    \n",
    "Coefficient for Category 24:\t0.014088233353688428\n",
    "    \n",
    "我嘗試將係數較大的Category 1 drop 並再次用logistic regression 計算得到0.68，結果更差。因此我猜想Category 1 是重要的feature。\n"
   ]
  },
  {
   "cell_type": "markdown",
   "metadata": {},
   "source": [
    "### SVM"
   ]
  },
  {
   "cell_type": "markdown",
   "metadata": {},
   "source": [
    "因為Category 1 drop 並再次用logistic regression 計算得到0.68，結果更差，因此我決定pick Category 1 and Category 16這兩個係數較大的columns。\n",
    "* 第一次使用penalty=0.05: Train accuracy = 0.7243333333333334, Test accuracy = 0.741042345276873\n",
    "\n",
    "test accuracy成長了!因此我們再試著改變penalty\n",
    "* 第二次使用Penalty = 10: Train accuracy = 0.7343333333333333, Test accuracy = 0.7349348534201955\n",
    "\n",
    "結果 test accuracy 卻降低!\n",
    "* 第三次使用Penalty = 0.01: Train accuracy = 0.7123333333333334, Test accuracy = 0.7292345276872965\n",
    "\n",
    "結果更差!\n",
    "\n",
    "因此得到結論在這三次中penalty=0.05最佳"
   ]
  },
  {
   "cell_type": "markdown",
   "metadata": {},
   "source": [
    "### Neural Network"
   ]
  },
  {
   "cell_type": "markdown",
   "metadata": {},
   "source": [
    "接著試試Neural Network，先隨機設參數"
   ]
  },
  {
   "cell_type": "raw",
   "metadata": {},
   "source": [
    "hidden_units = 10    # how many neurons in the hidden layer\n",
    "activation = 'relu'  # activation function for hidden layer\n",
    "l2 = 0.001           # regularization - how much we penalize large parameter values\n",
    "learning_rate = 0.1  # how big our steps are in gradient descent\n",
    "epochs = 20          # how many epochs to train for\n",
    "batch_size = 32      # how many samples to use for each gradient descent update"
   ]
  },
  {
   "cell_type": "markdown",
   "metadata": {},
   "source": [
    "得到average accuracy為0.79，這是目前最高的!"
   ]
  },
  {
   "cell_type": "markdown",
   "metadata": {},
   "source": [
    "因為我們從SVM中知道penalty=0.05最好，所以將l2=0.05。目前參數為下方表示"
   ]
  },
  {
   "cell_type": "raw",
   "metadata": {},
   "source": [
    "hidden_units = 10    # how many neurons in the hidden layer\n",
    "activation = 'relu'  # activation function for hidden layer\n",
    "l2 = 0.05            # regularization - how much we penalize large parameter values\n",
    "learning_rate = 0.1  # how big our steps are in gradient descent\n",
    "epochs = 20          # how many epochs to train for\n",
    "batch_size = 32      # how many samples to use for each gradient descent update"
   ]
  },
  {
   "cell_type": "markdown",
   "metadata": {},
   "source": [
    "得到average accuracy為0.87，accuracy又成長了!"
   ]
  },
  {
   "cell_type": "markdown",
   "metadata": {},
   "source": [
    "想當然我們應該想改變其他參數使accuracy提升，不過在我將其他參數改變數值卻反而降低accuracy。"
   ]
  },
  {
   "cell_type": "markdown",
   "metadata": {},
   "source": [
    "## 結果\n",
    "我認為使用Neural Network為最好的模型，並且l2=0.001為最佳。"
   ]
  },
  {
   "cell_type": "code",
   "execution_count": null,
   "metadata": {},
   "outputs": [],
   "source": []
  }
 ],
 "metadata": {
  "kernelspec": {
   "display_name": "Python 3",
   "language": "python",
   "name": "python3"
  },
  "language_info": {
   "codemirror_mode": {
    "name": "ipython",
    "version": 3
   },
   "file_extension": ".py",
   "mimetype": "text/x-python",
   "name": "python",
   "nbconvert_exporter": "python",
   "pygments_lexer": "ipython3",
   "version": "3.7.1"
  }
 },
 "nbformat": 4,
 "nbformat_minor": 2
}
